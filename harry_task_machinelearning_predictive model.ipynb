{
 "cells": [
  {
   "cell_type": "markdown",
   "metadata": {},
   "source": [
    "# Forex predictions using Machine Learning\n",
    "# Loading and preparing data"
   ]
  },
  {
   "cell_type": "code",
   "execution_count": 1,
   "metadata": {
    "scrolled": true
   },
   "outputs": [
    {
     "data": {
      "text/html": [
       "<div>\n",
       "<style scoped>\n",
       "    .dataframe tbody tr th:only-of-type {\n",
       "        vertical-align: middle;\n",
       "    }\n",
       "\n",
       "    .dataframe tbody tr th {\n",
       "        vertical-align: top;\n",
       "    }\n",
       "\n",
       "    .dataframe thead th {\n",
       "        text-align: right;\n",
       "    }\n",
       "</style>\n",
       "<table border=\"1\" class=\"dataframe\">\n",
       "  <thead>\n",
       "    <tr style=\"text-align: right;\">\n",
       "      <th></th>\n",
       "      <th>Date</th>\n",
       "      <th>close</th>\n",
       "      <th>open</th>\n",
       "      <th>high</th>\n",
       "      <th>low</th>\n",
       "      <th>volume</th>\n",
       "      <th>Unnamed: 6</th>\n",
       "    </tr>\n",
       "  </thead>\n",
       "  <tbody>\n",
       "    <tr>\n",
       "      <th>156</th>\n",
       "      <td>1/9/2023</td>\n",
       "      <td>0.610</td>\n",
       "      <td>0.615</td>\n",
       "      <td>0.615</td>\n",
       "      <td>0.605</td>\n",
       "      <td>1.10M</td>\n",
       "      <td>NaN</td>\n",
       "    </tr>\n",
       "    <tr>\n",
       "      <th>157</th>\n",
       "      <td>1/6/2023</td>\n",
       "      <td>0.605</td>\n",
       "      <td>0.605</td>\n",
       "      <td>0.610</td>\n",
       "      <td>0.600</td>\n",
       "      <td>3.65M</td>\n",
       "      <td>NaN</td>\n",
       "    </tr>\n",
       "    <tr>\n",
       "      <th>158</th>\n",
       "      <td>1/5/2023</td>\n",
       "      <td>0.610</td>\n",
       "      <td>0.605</td>\n",
       "      <td>0.615</td>\n",
       "      <td>0.605</td>\n",
       "      <td>3.18M</td>\n",
       "      <td>NaN</td>\n",
       "    </tr>\n",
       "    <tr>\n",
       "      <th>159</th>\n",
       "      <td>1/4/2023</td>\n",
       "      <td>0.610</td>\n",
       "      <td>0.615</td>\n",
       "      <td>0.615</td>\n",
       "      <td>0.605</td>\n",
       "      <td>2.78M</td>\n",
       "      <td>NaN</td>\n",
       "    </tr>\n",
       "    <tr>\n",
       "      <th>160</th>\n",
       "      <td>1/3/2023</td>\n",
       "      <td>0.615</td>\n",
       "      <td>0.620</td>\n",
       "      <td>0.620</td>\n",
       "      <td>0.610</td>\n",
       "      <td>3.91M</td>\n",
       "      <td>NaN</td>\n",
       "    </tr>\n",
       "  </tbody>\n",
       "</table>\n",
       "</div>"
      ],
      "text/plain": [
       "         Date  close   open   high    low volume  Unnamed: 6\n",
       "156  1/9/2023  0.610  0.615  0.615  0.605  1.10M         NaN\n",
       "157  1/6/2023  0.605  0.605  0.610  0.600  3.65M         NaN\n",
       "158  1/5/2023  0.610  0.605  0.615  0.605  3.18M         NaN\n",
       "159  1/4/2023  0.610  0.615  0.615  0.605  2.78M         NaN\n",
       "160  1/3/2023  0.615  0.620  0.620  0.610  3.91M         NaN"
      ]
     },
     "execution_count": 1,
     "metadata": {},
     "output_type": "execute_result"
    }
   ],
   "source": [
    "import pandas as pd\n",
    "df = pd.read_csv(\"MBSS Historical Data.csv\")\n",
    "df.tail()"
   ]
  },
  {
   "cell_type": "code",
   "execution_count": 2,
   "metadata": {},
   "outputs": [
    {
     "data": {
      "text/plain": [
       "Date            0\n",
       "close           0\n",
       "open            0\n",
       "high            0\n",
       "low             0\n",
       "volume          0\n",
       "Unnamed: 6    161\n",
       "dtype: int64"
      ]
     },
     "execution_count": 2,
     "metadata": {},
     "output_type": "execute_result"
    }
   ],
   "source": [
    "#Check if any zero volumes are available\n",
    "indexZeros = df[ df['volume'] == 0 ].index\n",
    "\n",
    "df.drop(indexZeros , inplace=True)\n",
    "df.loc[(df[\"volume\"] == 0 )]\n",
    "df.isna().sum()"
   ]
  },
  {
   "cell_type": "code",
   "execution_count": 3,
   "metadata": {
    "scrolled": false
   },
   "outputs": [
    {
     "ename": "NameError",
     "evalue": "name 'df' is not defined",
     "output_type": "error",
     "traceback": [
      "\u001b[1;31m---------------------------------------------------------------------------\u001b[0m",
      "\u001b[1;31mNameError\u001b[0m                                 Traceback (most recent call last)",
      "Cell \u001b[1;32mIn[3], line 5\u001b[0m\n\u001b[0;32m      2\u001b[0m \u001b[38;5;28;01mimport\u001b[39;00m \u001b[38;5;21;01mpandas_ta\u001b[39;00m \u001b[38;5;28;01mas\u001b[39;00m \u001b[38;5;21;01mta\u001b[39;00m\n\u001b[0;32m      3\u001b[0m \u001b[38;5;66;03m#df.ta.indicators()\u001b[39;00m\n\u001b[0;32m      4\u001b[0m \u001b[38;5;66;03m#help(ta.atr)\u001b[39;00m\n\u001b[1;32m----> 5\u001b[0m df[\u001b[38;5;124m'\u001b[39m\u001b[38;5;124mATR\u001b[39m\u001b[38;5;124m'\u001b[39m] \u001b[38;5;241m=\u001b[39m \u001b[43mdf\u001b[49m\u001b[38;5;241m.\u001b[39mta\u001b[38;5;241m.\u001b[39matr(length\u001b[38;5;241m=\u001b[39m\u001b[38;5;241m20\u001b[39m)\n\u001b[0;32m      6\u001b[0m df[\u001b[38;5;124m'\u001b[39m\u001b[38;5;124mRSI\u001b[39m\u001b[38;5;124m'\u001b[39m] \u001b[38;5;241m=\u001b[39m df\u001b[38;5;241m.\u001b[39mta\u001b[38;5;241m.\u001b[39mrsi()\n\u001b[0;32m      7\u001b[0m df[\u001b[38;5;124m'\u001b[39m\u001b[38;5;124mAverage\u001b[39m\u001b[38;5;124m'\u001b[39m] \u001b[38;5;241m=\u001b[39m df\u001b[38;5;241m.\u001b[39mta\u001b[38;5;241m.\u001b[39mmidprice(length\u001b[38;5;241m=\u001b[39m\u001b[38;5;241m1\u001b[39m) \u001b[38;5;66;03m#midprice\u001b[39;00m\n",
      "\u001b[1;31mNameError\u001b[0m: name 'df' is not defined"
     ]
    }
   ],
   "source": [
    "import numpy as np\n",
    "import pandas_ta as ta\n",
    "#df.ta.indicators()\n",
    "#help(ta.atr)\n",
    "df['ATR'] = df.ta.atr(length=20)\n",
    "df['RSI'] = df.ta.rsi()\n",
    "df['Average'] = df.ta.midprice(length=1) #midprice\n",
    "df['MA40'] = df.ta.sma(length=40)\n",
    "df['MA80'] = df.ta.sma(length=80)\n",
    "df['MA160'] = df.ta.sma(length=160)\n",
    "\n",
    "from scipy.stats import linregress\n",
    "def get_slope(array):\n",
    "    y = np.array(array)\n",
    "    x = np.arange(len(y))\n",
    "    slope, intercept, r_value, p_value, std_err = linregress(x,y)\n",
    "    return slope\n",
    "\n",
    "#!!!!!!!!!!!!!!!!!!!!!!!!!!!!!\n",
    "backrollingN = 6\n",
    "#!!!!!!!!!!!!!!!!!!!!!!!!!!!!!\n",
    "df['slopeMA40'] = df['MA40'].rolling(window=backrollingN).apply(get_slope, raw=True)\n",
    "df['slopeMA80'] = df['MA80'].rolling(window=backrollingN).apply(get_slope, raw=True)\n",
    "df['slopeMA160'] = df['MA160'].rolling(window=backrollingN).apply(get_slope, raw=True)\n",
    "df['AverageSlope'] = df['Average'].rolling(window=backrollingN).apply(get_slope, raw=True)\n",
    "df['RSISlope'] = df['RSI'].rolling(window=backrollingN).apply(get_slope, raw=True)"
   ]
  },
  {
   "cell_type": "code",
   "execution_count": null,
   "metadata": {},
   "outputs": [],
   "source": [
    "import matplotlib.pyplot as plt\n",
    "\n",
    "# Plot ATR\n",
    "plt.figure(figsize=(10, 6))\n",
    "plt.plot( df.ta.atr.index, df['ATR'], label='ATR', color='blue')\n",
    "plt.xlabel('Date')\n",
    "plt.ylabel('ATR')\n",
    "plt.title('ATR Over Time')\n",
    "plt.legend()\n",
    "plt.show()\n"
   ]
  },
  {
   "cell_type": "code",
   "execution_count": 28,
   "metadata": {
    "scrolled": true
   },
   "outputs": [
    {
     "data": {
      "text/html": [
       "<div>\n",
       "<style scoped>\n",
       "    .dataframe tbody tr th:only-of-type {\n",
       "        vertical-align: middle;\n",
       "    }\n",
       "\n",
       "    .dataframe tbody tr th {\n",
       "        vertical-align: top;\n",
       "    }\n",
       "\n",
       "    .dataframe thead th {\n",
       "        text-align: right;\n",
       "    }\n",
       "</style>\n",
       "<table border=\"1\" class=\"dataframe\">\n",
       "  <thead>\n",
       "    <tr style=\"text-align: right;\">\n",
       "      <th></th>\n",
       "      <th>Date</th>\n",
       "      <th>close</th>\n",
       "      <th>open</th>\n",
       "      <th>high</th>\n",
       "      <th>low</th>\n",
       "      <th>volume</th>\n",
       "      <th>Unnamed: 6</th>\n",
       "      <th>ATR</th>\n",
       "      <th>RSI</th>\n",
       "      <th>Average</th>\n",
       "      <th>MA40</th>\n",
       "      <th>MA80</th>\n",
       "      <th>MA160</th>\n",
       "      <th>slopeMA40</th>\n",
       "      <th>slopeMA80</th>\n",
       "      <th>slopeMA160</th>\n",
       "      <th>AverageSlope</th>\n",
       "      <th>RSISlope</th>\n",
       "      <th>mytarget</th>\n",
       "    </tr>\n",
       "  </thead>\n",
       "  <tbody>\n",
       "    <tr>\n",
       "      <th>156</th>\n",
       "      <td>1/9/2023</td>\n",
       "      <td>0.610</td>\n",
       "      <td>0.615</td>\n",
       "      <td>0.615</td>\n",
       "      <td>0.605</td>\n",
       "      <td>1.10M</td>\n",
       "      <td>NaN</td>\n",
       "      <td>0.010708</td>\n",
       "      <td>53.243842</td>\n",
       "      <td>0.610</td>\n",
       "      <td>0.605625</td>\n",
       "      <td>0.613375</td>\n",
       "      <td>NaN</td>\n",
       "      <td>0.000582</td>\n",
       "      <td>-0.000421</td>\n",
       "      <td>NaN</td>\n",
       "      <td>-0.000071</td>\n",
       "      <td>0.147587</td>\n",
       "      <td>NaN</td>\n",
       "    </tr>\n",
       "    <tr>\n",
       "      <th>157</th>\n",
       "      <td>1/6/2023</td>\n",
       "      <td>0.605</td>\n",
       "      <td>0.605</td>\n",
       "      <td>0.610</td>\n",
       "      <td>0.600</td>\n",
       "      <td>3.65M</td>\n",
       "      <td>NaN</td>\n",
       "      <td>0.010672</td>\n",
       "      <td>48.124982</td>\n",
       "      <td>0.605</td>\n",
       "      <td>0.605625</td>\n",
       "      <td>0.612812</td>\n",
       "      <td>NaN</td>\n",
       "      <td>0.000414</td>\n",
       "      <td>-0.000457</td>\n",
       "      <td>NaN</td>\n",
       "      <td>-0.000857</td>\n",
       "      <td>-0.961894</td>\n",
       "      <td>NaN</td>\n",
       "    </tr>\n",
       "    <tr>\n",
       "      <th>158</th>\n",
       "      <td>1/5/2023</td>\n",
       "      <td>0.610</td>\n",
       "      <td>0.605</td>\n",
       "      <td>0.615</td>\n",
       "      <td>0.605</td>\n",
       "      <td>3.18M</td>\n",
       "      <td>NaN</td>\n",
       "      <td>0.010639</td>\n",
       "      <td>52.991973</td>\n",
       "      <td>0.610</td>\n",
       "      <td>0.605625</td>\n",
       "      <td>0.612375</td>\n",
       "      <td>NaN</td>\n",
       "      <td>0.000257</td>\n",
       "      <td>-0.000486</td>\n",
       "      <td>NaN</td>\n",
       "      <td>-0.000286</td>\n",
       "      <td>-0.403203</td>\n",
       "      <td>NaN</td>\n",
       "    </tr>\n",
       "    <tr>\n",
       "      <th>159</th>\n",
       "      <td>1/4/2023</td>\n",
       "      <td>0.610</td>\n",
       "      <td>0.615</td>\n",
       "      <td>0.615</td>\n",
       "      <td>0.605</td>\n",
       "      <td>2.78M</td>\n",
       "      <td>NaN</td>\n",
       "      <td>0.010607</td>\n",
       "      <td>52.991973</td>\n",
       "      <td>0.610</td>\n",
       "      <td>0.605750</td>\n",
       "      <td>0.612000</td>\n",
       "      <td>0.654281</td>\n",
       "      <td>0.000129</td>\n",
       "      <td>-0.000498</td>\n",
       "      <td>NaN</td>\n",
       "      <td>0.000286</td>\n",
       "      <td>0.188597</td>\n",
       "      <td>NaN</td>\n",
       "    </tr>\n",
       "    <tr>\n",
       "      <th>160</th>\n",
       "      <td>1/3/2023</td>\n",
       "      <td>0.615</td>\n",
       "      <td>0.620</td>\n",
       "      <td>0.620</td>\n",
       "      <td>0.610</td>\n",
       "      <td>3.91M</td>\n",
       "      <td>NaN</td>\n",
       "      <td>0.010576</td>\n",
       "      <td>57.605003</td>\n",
       "      <td>0.615</td>\n",
       "      <td>0.605875</td>\n",
       "      <td>0.611750</td>\n",
       "      <td>0.653531</td>\n",
       "      <td>0.000082</td>\n",
       "      <td>-0.000443</td>\n",
       "      <td>NaN</td>\n",
       "      <td>0.001571</td>\n",
       "      <td>1.472510</td>\n",
       "      <td>NaN</td>\n",
       "    </tr>\n",
       "  </tbody>\n",
       "</table>\n",
       "</div>"
      ],
      "text/plain": [
       "         Date  close   open   high    low volume  Unnamed: 6       ATR  \\\n",
       "156  1/9/2023  0.610  0.615  0.615  0.605  1.10M         NaN  0.010708   \n",
       "157  1/6/2023  0.605  0.605  0.610  0.600  3.65M         NaN  0.010672   \n",
       "158  1/5/2023  0.610  0.605  0.615  0.605  3.18M         NaN  0.010639   \n",
       "159  1/4/2023  0.610  0.615  0.615  0.605  2.78M         NaN  0.010607   \n",
       "160  1/3/2023  0.615  0.620  0.620  0.610  3.91M         NaN  0.010576   \n",
       "\n",
       "           RSI  Average      MA40      MA80     MA160  slopeMA40  slopeMA80  \\\n",
       "156  53.243842    0.610  0.605625  0.613375       NaN   0.000582  -0.000421   \n",
       "157  48.124982    0.605  0.605625  0.612812       NaN   0.000414  -0.000457   \n",
       "158  52.991973    0.610  0.605625  0.612375       NaN   0.000257  -0.000486   \n",
       "159  52.991973    0.610  0.605750  0.612000  0.654281   0.000129  -0.000498   \n",
       "160  57.605003    0.615  0.605875  0.611750  0.653531   0.000082  -0.000443   \n",
       "\n",
       "     slopeMA160  AverageSlope  RSISlope  mytarget  \n",
       "156         NaN     -0.000071  0.147587       NaN  \n",
       "157         NaN     -0.000857 -0.961894       NaN  \n",
       "158         NaN     -0.000286 -0.403203       NaN  \n",
       "159         NaN      0.000286  0.188597       NaN  \n",
       "160         NaN      0.001571  1.472510       NaN  "
      ]
     },
     "execution_count": 28,
     "metadata": {},
     "output_type": "execute_result"
    }
   ],
   "source": [
    "df.tail()"
   ]
  },
  {
   "cell_type": "markdown",
   "metadata": {},
   "source": [
    "# Target categories"
   ]
  },
  {
   "cell_type": "code",
   "execution_count": 29,
   "metadata": {},
   "outputs": [],
   "source": [
    "#Target flexible way\n",
    "pipdiff = 500*1e-5 #for TP 用于计算止盈（TP）的差价\n",
    "SLTPRatio = 2 #pipdiff/Ratio gives SL  用于计算止损（SL）的比率，SL = pipdiff / SLTPRatio\n",
    "\n",
    "def mytarget(barsupfront, df1):\n",
    "    length = len(df1)\n",
    "    high = list(df1['high'])\n",
    "    low = list(df1['low'])\n",
    "    close = list(df1['close'])\n",
    "    open = list(df1['open'])\n",
    "    trendcat = [None] * length  # 创建一个与输入数据等长的趋势目标列表\n",
    "    \n",
    "    for line in range (0,length-barsupfront-2):\n",
    "        valueOpenLow = 0\n",
    "        valueOpenHigh = 0\n",
    "        for i in range(1,barsupfront+2):\n",
    "            value1 = open[line+1]-low[line+i]\n",
    "            value2 = open[line+1]-high[line+i]\n",
    "            valueOpenLow = max(value1, valueOpenLow)\n",
    "            valueOpenHigh = min(value2, valueOpenHigh)\n",
    "\n",
    "            if ( (valueOpenLow >= pipdiff) and (-valueOpenHigh <= (pipdiff/SLTPRatio)) ):\n",
    "                trendcat[line] = 1 #-1 downtrend\n",
    "                break\n",
    "            elif ( (valueOpenLow <= (pipdiff/SLTPRatio)) and (-valueOpenHigh >= pipdiff) ):\n",
    "                trendcat[line] = 2 # uptrend\n",
    "                break\n",
    "            else:\n",
    "                trendcat[line] = 0 # no clear trend\n",
    "            \n",
    "    return trendcat"
   ]
  },
  {
   "cell_type": "code",
   "execution_count": 30,
   "metadata": {
    "scrolled": true
   },
   "outputs": [
    {
     "data": {
      "text/html": [
       "<div>\n",
       "<style scoped>\n",
       "    .dataframe tbody tr th:only-of-type {\n",
       "        vertical-align: middle;\n",
       "    }\n",
       "\n",
       "    .dataframe tbody tr th {\n",
       "        vertical-align: top;\n",
       "    }\n",
       "\n",
       "    .dataframe thead th {\n",
       "        text-align: right;\n",
       "    }\n",
       "</style>\n",
       "<table border=\"1\" class=\"dataframe\">\n",
       "  <thead>\n",
       "    <tr style=\"text-align: right;\">\n",
       "      <th></th>\n",
       "      <th>Date</th>\n",
       "      <th>close</th>\n",
       "      <th>open</th>\n",
       "      <th>high</th>\n",
       "      <th>low</th>\n",
       "      <th>volume</th>\n",
       "      <th>Unnamed: 6</th>\n",
       "      <th>ATR</th>\n",
       "      <th>RSI</th>\n",
       "      <th>Average</th>\n",
       "      <th>MA40</th>\n",
       "      <th>MA80</th>\n",
       "      <th>MA160</th>\n",
       "      <th>slopeMA40</th>\n",
       "      <th>slopeMA80</th>\n",
       "      <th>slopeMA160</th>\n",
       "      <th>AverageSlope</th>\n",
       "      <th>RSISlope</th>\n",
       "      <th>mytarget</th>\n",
       "    </tr>\n",
       "  </thead>\n",
       "  <tbody>\n",
       "    <tr>\n",
       "      <th>0</th>\n",
       "      <td>08/30/2023</td>\n",
       "      <td>0.735</td>\n",
       "      <td>0.735</td>\n",
       "      <td>0.755</td>\n",
       "      <td>0.730</td>\n",
       "      <td>19.36M</td>\n",
       "      <td>NaN</td>\n",
       "      <td>NaN</td>\n",
       "      <td>NaN</td>\n",
       "      <td>0.7425</td>\n",
       "      <td>NaN</td>\n",
       "      <td>NaN</td>\n",
       "      <td>NaN</td>\n",
       "      <td>NaN</td>\n",
       "      <td>NaN</td>\n",
       "      <td>NaN</td>\n",
       "      <td>NaN</td>\n",
       "      <td>NaN</td>\n",
       "      <td>1.0</td>\n",
       "    </tr>\n",
       "    <tr>\n",
       "      <th>1</th>\n",
       "      <td>08/29/2023</td>\n",
       "      <td>0.735</td>\n",
       "      <td>0.750</td>\n",
       "      <td>0.750</td>\n",
       "      <td>0.725</td>\n",
       "      <td>11.02M</td>\n",
       "      <td>NaN</td>\n",
       "      <td>NaN</td>\n",
       "      <td>NaN</td>\n",
       "      <td>0.7375</td>\n",
       "      <td>NaN</td>\n",
       "      <td>NaN</td>\n",
       "      <td>NaN</td>\n",
       "      <td>NaN</td>\n",
       "      <td>NaN</td>\n",
       "      <td>NaN</td>\n",
       "      <td>NaN</td>\n",
       "      <td>NaN</td>\n",
       "      <td>0.0</td>\n",
       "    </tr>\n",
       "    <tr>\n",
       "      <th>2</th>\n",
       "      <td>08/28/2023</td>\n",
       "      <td>0.745</td>\n",
       "      <td>0.735</td>\n",
       "      <td>0.750</td>\n",
       "      <td>0.730</td>\n",
       "      <td>9.28M</td>\n",
       "      <td>NaN</td>\n",
       "      <td>NaN</td>\n",
       "      <td>NaN</td>\n",
       "      <td>0.7400</td>\n",
       "      <td>NaN</td>\n",
       "      <td>NaN</td>\n",
       "      <td>NaN</td>\n",
       "      <td>NaN</td>\n",
       "      <td>NaN</td>\n",
       "      <td>NaN</td>\n",
       "      <td>NaN</td>\n",
       "      <td>NaN</td>\n",
       "      <td>0.0</td>\n",
       "    </tr>\n",
       "    <tr>\n",
       "      <th>3</th>\n",
       "      <td>08/25/2023</td>\n",
       "      <td>0.730</td>\n",
       "      <td>0.725</td>\n",
       "      <td>0.735</td>\n",
       "      <td>0.720</td>\n",
       "      <td>7.96M</td>\n",
       "      <td>NaN</td>\n",
       "      <td>NaN</td>\n",
       "      <td>NaN</td>\n",
       "      <td>0.7275</td>\n",
       "      <td>NaN</td>\n",
       "      <td>NaN</td>\n",
       "      <td>NaN</td>\n",
       "      <td>NaN</td>\n",
       "      <td>NaN</td>\n",
       "      <td>NaN</td>\n",
       "      <td>NaN</td>\n",
       "      <td>NaN</td>\n",
       "      <td>1.0</td>\n",
       "    </tr>\n",
       "    <tr>\n",
       "      <th>4</th>\n",
       "      <td>08/24/2023</td>\n",
       "      <td>0.725</td>\n",
       "      <td>0.725</td>\n",
       "      <td>0.725</td>\n",
       "      <td>0.720</td>\n",
       "      <td>5.04M</td>\n",
       "      <td>NaN</td>\n",
       "      <td>NaN</td>\n",
       "      <td>NaN</td>\n",
       "      <td>0.7225</td>\n",
       "      <td>NaN</td>\n",
       "      <td>NaN</td>\n",
       "      <td>NaN</td>\n",
       "      <td>NaN</td>\n",
       "      <td>NaN</td>\n",
       "      <td>NaN</td>\n",
       "      <td>NaN</td>\n",
       "      <td>NaN</td>\n",
       "      <td>0.0</td>\n",
       "    </tr>\n",
       "  </tbody>\n",
       "</table>\n",
       "</div>"
      ],
      "text/plain": [
       "         Date  close   open   high    low  volume  Unnamed: 6  ATR  RSI  \\\n",
       "0  08/30/2023  0.735  0.735  0.755  0.730  19.36M         NaN  NaN  NaN   \n",
       "1  08/29/2023  0.735  0.750  0.750  0.725  11.02M         NaN  NaN  NaN   \n",
       "2  08/28/2023  0.745  0.735  0.750  0.730   9.28M         NaN  NaN  NaN   \n",
       "3  08/25/2023  0.730  0.725  0.735  0.720   7.96M         NaN  NaN  NaN   \n",
       "4  08/24/2023  0.725  0.725  0.725  0.720   5.04M         NaN  NaN  NaN   \n",
       "\n",
       "   Average  MA40  MA80  MA160  slopeMA40  slopeMA80  slopeMA160  AverageSlope  \\\n",
       "0   0.7425   NaN   NaN    NaN        NaN        NaN         NaN           NaN   \n",
       "1   0.7375   NaN   NaN    NaN        NaN        NaN         NaN           NaN   \n",
       "2   0.7400   NaN   NaN    NaN        NaN        NaN         NaN           NaN   \n",
       "3   0.7275   NaN   NaN    NaN        NaN        NaN         NaN           NaN   \n",
       "4   0.7225   NaN   NaN    NaN        NaN        NaN         NaN           NaN   \n",
       "\n",
       "   RSISlope  mytarget  \n",
       "0       NaN       1.0  \n",
       "1       NaN       0.0  \n",
       "2       NaN       0.0  \n",
       "3       NaN       1.0  \n",
       "4       NaN       0.0  "
      ]
     },
     "execution_count": 30,
     "metadata": {},
     "output_type": "execute_result"
    }
   ],
   "source": [
    "# mytarget(barsfront to take into account, dataframe)\n",
    "df['mytarget'] = mytarget(16, df)\n",
    "df.head()"
   ]
  },
  {
   "cell_type": "markdown",
   "metadata": {},
   "source": [
    "# Quick analysis example"
   ]
  },
  {
   "cell_type": "code",
   "execution_count": 31,
   "metadata": {},
   "outputs": [
    {
     "name": "stderr",
     "output_type": "stream",
     "text": [
      "C:\\Users\\jenqyang.lim\\AppData\\Local\\Temp\\ipykernel_35816\\2271519335.py:5: UserWarning: To output multiple subplots, the figure containing the passed axes is being cleared.\n",
      "  df_model.hist(ax = ax)\n"
     ]
    },
    {
     "data": {
      "image/png": "[encoded data removed]",
      "text/plain": [
       "<Figure size 1500x2000 with 12 Axes>"
      ]
     },
     "metadata": {},
     "output_type": "display_data"
    }
   ],
   "source": [
    "import matplotlib.pyplot as plt\n",
    "fig = plt.figure(figsize = (15,20))\n",
    "ax = fig.gca()\n",
    "df_model= df[['volume', 'ATR', 'RSI', 'Average', 'MA40', 'MA80', 'MA160', 'slopeMA40', 'slopeMA80', 'slopeMA160', 'AverageSlope', 'RSISlope', 'mytarget']] \n",
    "df_model.hist(ax = ax)\n",
    "plt.show()"
   ]
  },
  {
   "cell_type": "markdown",
   "metadata": {},
   "source": [
    "## Can we use the RSI alone as a trend indicator?"
   ]
  },
  {
   "cell_type": "code",
   "execution_count": 32,
   "metadata": {},
   "outputs": [
    {
     "data": {
      "image/png": "[encoded data removed]",
      "text/plain": [
       "<Figure size 640x480 with 1 Axes>"
      ]
     },
     "metadata": {},
     "output_type": "display_data"
    },
    {
     "data": {
      "text/plain": [
       "<Figure size 600x600 with 0 Axes>"
      ]
     },
     "metadata": {},
     "output_type": "display_data"
    },
    {
     "name": "stderr",
     "output_type": "stream",
     "text": [
      "C:\\Users\\jenqyang.lim\\AppData\\Roaming\\Python\\Python311\\site-packages\\IPython\\core\\pylabtools.py:152: UserWarning: Glyph 25968 (\\N{CJK UNIFIED IDEOGRAPH-6570}) missing from current font.\n",
      "  fig.canvas.print_figure(bytes_io, **kw)\n",
      "C:\\Users\\jenqyang.lim\\AppData\\Roaming\\Python\\Python311\\site-packages\\IPython\\core\\pylabtools.py:152: UserWarning: Glyph 25454 (\\N{CJK UNIFIED IDEOGRAPH-636E}) missing from current font.\n",
      "  fig.canvas.print_figure(bytes_io, **kw)\n",
      "C:\\Users\\jenqyang.lim\\AppData\\Roaming\\Python\\Python311\\site-packages\\IPython\\core\\pylabtools.py:152: UserWarning: Glyph 20998 (\\N{CJK UNIFIED IDEOGRAPH-5206}) missing from current font.\n",
      "  fig.canvas.print_figure(bytes_io, **kw)\n",
      "C:\\Users\\jenqyang.lim\\AppData\\Roaming\\Python\\Python311\\site-packages\\IPython\\core\\pylabtools.py:152: UserWarning: Glyph 24067 (\\N{CJK UNIFIED IDEOGRAPH-5E03}) missing from current font.\n",
      "  fig.canvas.print_figure(bytes_io, **kw)\n"
     ]
    },
    {
     "data": {
      "image/png": "[encoded data removed]",
      "text/plain": [
       "<Figure size 600x600 with 1 Axes>"
      ]
     },
     "metadata": {},
     "output_type": "display_data"
    },
    {
     "data": {
      "text/plain": [
       "<Figure size 600x600 with 0 Axes>"
      ]
     },
     "metadata": {},
     "output_type": "display_data"
    }
   ],
   "source": [
    "from matplotlib import pyplot\n",
    "df_up=df.RSI[ df['mytarget'] == 2 ]\n",
    "df_down=df.RSI[ df['mytarget'] == 1 ]\n",
    "df_unclear=df.RSI[ df['mytarget'] == 0 ]\n",
    "pyplot.hist(df_unclear, bins=100, alpha=0.5, label='unclear')\n",
    "pyplot.hist(df_down, bins=100, alpha=0.5, label='down')\n",
    "pyplot.hist(df_up, bins=100, alpha=0.5, label='up')\n",
    "plt.figure(figsize=(6, 6))\n",
    "\n",
    "# 创建一个新的图形来绘制饼图\n",
    "plt.figure(figsize=(6, 6))\n",
    "\n",
    "# 数据\n",
    "categories = ['Up', 'Down', 'Unclear']\n",
    "values = [len(df_up), len(df_down), len(df_unclear)]\n",
    "\n",
    "# 绘制饼图\n",
    "plt.pie(values, labels=categories, autopct='%1.1f%%', startangle=140)\n",
    "plt.title('数据分布')\n",
    "\n",
    "pyplot.legend(loc='upper right')\n",
    "plt.figure(figsize=(6, 6))\n",
    "categories = ['Up', 'Down', 'Unclear']\n",
    "values = [len(df_up), len(df_down), len(df_unclear)]\n",
    "\n",
    "pyplot.show()\n",
    "\n",
    "#TO SHOW TREND "
   ]
  },
  {
   "cell_type": "markdown",
   "metadata": {},
   "source": [
    "# Machine learning for trend prediction"
   ]
  },
  {
   "cell_type": "markdown",
   "metadata": {},
   "source": [
    "## 1 - the perfect model with precise prediction"
   ]
  },
  {
   "cell_type": "markdown",
   "metadata": {},
   "source": [
    "## 2 - less perfect model still with > 40% precision"
   ]
  },
  {
   "cell_type": "markdown",
   "metadata": {},
   "source": [
    "## 3 - much less perfect model with precision >35% taking into account our strategy, and our TP/SL ratio "
   ]
  },
  {
   "cell_type": "markdown",
   "metadata": {},
   "source": [
    "### can't let an automated program run your trades\n",
    "### it can be your version of a smart indicator (based on machine learning)\n",
    "\n",
    "## 4 - Our target has categorical values so we need a classificator, KNN?"
   ]
  },
  {
   "cell_type": "markdown",
   "metadata": {},
   "source": [
    "## Splitting features and target"
   ]
  },
  {
   "cell_type": "code",
   "execution_count": 38,
   "metadata": {},
   "outputs": [
    {
     "name": "stdout",
     "output_type": "stream",
     "text": [
      "Empty DataFrame\n",
      "Columns: [ATR, RSI, Average, MA40, MA80, MA160, slopeMA40, slopeMA80, slopeMA160, AverageSlope, RSISlope]\n",
      "Index: []\n"
     ]
    }
   ],
   "source": [
    "import pandas as pd\n",
    "df_model=df_model.dropna()\n",
    "\n",
    "attributes=['ATR', 'RSI', 'Average', 'MA40', 'MA80', 'MA160', 'slopeMA40', 'slopeMA80', 'slopeMA160', 'AverageSlope', 'RSISlope']\n",
    "X = df_model[attributes]\n",
    "y = df_model[\"mytarget\"]\n",
    "\n",
    "print(X)"
   ]
  },
  {
   "cell_type": "code",
   "execution_count": 48,
   "metadata": {},
   "outputs": [
    {
     "ename": "ValueError",
     "evalue": "With n_samples=0, test_size=0.1 and train_size=None, the resulting train set will be empty. Adjust any of the aforementioned parameters.",
     "output_type": "error",
     "traceback": [
      "\u001b[1;31m---------------------------------------------------------------------------\u001b[0m",
      "\u001b[1;31mValueError\u001b[0m                                Traceback (most recent call last)",
      "Cell \u001b[1;32mIn[48], line 2\u001b[0m\n\u001b[0;32m      1\u001b[0m \u001b[38;5;28;01mfrom\u001b[39;00m \u001b[38;5;21;01msklearn\u001b[39;00m\u001b[38;5;21;01m.\u001b[39;00m\u001b[38;5;21;01mmodel_selection\u001b[39;00m \u001b[38;5;28;01mimport\u001b[39;00m train_test_split\n\u001b[1;32m----> 2\u001b[0m X_train, X_test, y_train, y_test \u001b[38;5;241m=\u001b[39m \u001b[43mtrain_test_split\u001b[49m\u001b[43m(\u001b[49m\u001b[43mX\u001b[49m\u001b[43m,\u001b[49m\u001b[43m \u001b[49m\u001b[43my\u001b[49m\u001b[43m,\u001b[49m\u001b[43m \u001b[49m\u001b[43mtest_size\u001b[49m\u001b[38;5;241;43m=\u001b[39;49m\u001b[38;5;241;43m0.1\u001b[39;49m\u001b[43m,\u001b[49m\u001b[43m \u001b[49m\u001b[43mrandom_state\u001b[49m\u001b[38;5;241;43m=\u001b[39;49m\u001b[38;5;241;43m42\u001b[39;49m\u001b[43m)\u001b[49m\n",
      "File \u001b[1;32m~\\AppData\\Local\\anaconda3\\Lib\\site-packages\\sklearn\\utils\\_param_validation.py:211\u001b[0m, in \u001b[0;36mvalidate_params.<locals>.decorator.<locals>.wrapper\u001b[1;34m(*args, **kwargs)\u001b[0m\n\u001b[0;32m    205\u001b[0m \u001b[38;5;28;01mtry\u001b[39;00m:\n\u001b[0;32m    206\u001b[0m     \u001b[38;5;28;01mwith\u001b[39;00m config_context(\n\u001b[0;32m    207\u001b[0m         skip_parameter_validation\u001b[38;5;241m=\u001b[39m(\n\u001b[0;32m    208\u001b[0m             prefer_skip_nested_validation \u001b[38;5;129;01mor\u001b[39;00m global_skip_validation\n\u001b[0;32m    209\u001b[0m         )\n\u001b[0;32m    210\u001b[0m     ):\n\u001b[1;32m--> 211\u001b[0m         \u001b[38;5;28;01mreturn\u001b[39;00m \u001b[43mfunc\u001b[49m\u001b[43m(\u001b[49m\u001b[38;5;241;43m*\u001b[39;49m\u001b[43margs\u001b[49m\u001b[43m,\u001b[49m\u001b[43m \u001b[49m\u001b[38;5;241;43m*\u001b[39;49m\u001b[38;5;241;43m*\u001b[39;49m\u001b[43mkwargs\u001b[49m\u001b[43m)\u001b[49m\n\u001b[0;32m    212\u001b[0m \u001b[38;5;28;01mexcept\u001b[39;00m InvalidParameterError \u001b[38;5;28;01mas\u001b[39;00m e:\n\u001b[0;32m    213\u001b[0m     \u001b[38;5;66;03m# When the function is just a wrapper around an estimator, we allow\u001b[39;00m\n\u001b[0;32m    214\u001b[0m     \u001b[38;5;66;03m# the function to delegate validation to the estimator, but we replace\u001b[39;00m\n\u001b[0;32m    215\u001b[0m     \u001b[38;5;66;03m# the name of the estimator by the name of the function in the error\u001b[39;00m\n\u001b[0;32m    216\u001b[0m     \u001b[38;5;66;03m# message to avoid confusion.\u001b[39;00m\n\u001b[0;32m    217\u001b[0m     msg \u001b[38;5;241m=\u001b[39m re\u001b[38;5;241m.\u001b[39msub(\n\u001b[0;32m    218\u001b[0m         \u001b[38;5;124mr\u001b[39m\u001b[38;5;124m\"\u001b[39m\u001b[38;5;124mparameter of \u001b[39m\u001b[38;5;124m\\\u001b[39m\u001b[38;5;124mw+ must be\u001b[39m\u001b[38;5;124m\"\u001b[39m,\n\u001b[0;32m    219\u001b[0m         \u001b[38;5;124mf\u001b[39m\u001b[38;5;124m\"\u001b[39m\u001b[38;5;124mparameter of \u001b[39m\u001b[38;5;132;01m{\u001b[39;00mfunc\u001b[38;5;241m.\u001b[39m\u001b[38;5;18m__qualname__\u001b[39m\u001b[38;5;132;01m}\u001b[39;00m\u001b[38;5;124m must be\u001b[39m\u001b[38;5;124m\"\u001b[39m,\n\u001b[0;32m    220\u001b[0m         \u001b[38;5;28mstr\u001b[39m(e),\n\u001b[0;32m    221\u001b[0m     )\n",
      "File \u001b[1;32m~\\AppData\\Local\\anaconda3\\Lib\\site-packages\\sklearn\\model_selection\\_split.py:2617\u001b[0m, in \u001b[0;36mtrain_test_split\u001b[1;34m(test_size, train_size, random_state, shuffle, stratify, *arrays)\u001b[0m\n\u001b[0;32m   2614\u001b[0m arrays \u001b[38;5;241m=\u001b[39m indexable(\u001b[38;5;241m*\u001b[39marrays)\n\u001b[0;32m   2616\u001b[0m n_samples \u001b[38;5;241m=\u001b[39m _num_samples(arrays[\u001b[38;5;241m0\u001b[39m])\n\u001b[1;32m-> 2617\u001b[0m n_train, n_test \u001b[38;5;241m=\u001b[39m \u001b[43m_validate_shuffle_split\u001b[49m\u001b[43m(\u001b[49m\n\u001b[0;32m   2618\u001b[0m \u001b[43m    \u001b[49m\u001b[43mn_samples\u001b[49m\u001b[43m,\u001b[49m\u001b[43m \u001b[49m\u001b[43mtest_size\u001b[49m\u001b[43m,\u001b[49m\u001b[43m \u001b[49m\u001b[43mtrain_size\u001b[49m\u001b[43m,\u001b[49m\u001b[43m \u001b[49m\u001b[43mdefault_test_size\u001b[49m\u001b[38;5;241;43m=\u001b[39;49m\u001b[38;5;241;43m0.25\u001b[39;49m\n\u001b[0;32m   2619\u001b[0m \u001b[43m\u001b[49m\u001b[43m)\u001b[49m\n\u001b[0;32m   2621\u001b[0m \u001b[38;5;28;01mif\u001b[39;00m shuffle \u001b[38;5;129;01mis\u001b[39;00m \u001b[38;5;28;01mFalse\u001b[39;00m:\n\u001b[0;32m   2622\u001b[0m     \u001b[38;5;28;01mif\u001b[39;00m stratify \u001b[38;5;129;01mis\u001b[39;00m \u001b[38;5;129;01mnot\u001b[39;00m \u001b[38;5;28;01mNone\u001b[39;00m:\n",
      "File \u001b[1;32m~\\AppData\\Local\\anaconda3\\Lib\\site-packages\\sklearn\\model_selection\\_split.py:2273\u001b[0m, in \u001b[0;36m_validate_shuffle_split\u001b[1;34m(n_samples, test_size, train_size, default_test_size)\u001b[0m\n\u001b[0;32m   2270\u001b[0m n_train, n_test \u001b[38;5;241m=\u001b[39m \u001b[38;5;28mint\u001b[39m(n_train), \u001b[38;5;28mint\u001b[39m(n_test)\n\u001b[0;32m   2272\u001b[0m \u001b[38;5;28;01mif\u001b[39;00m n_train \u001b[38;5;241m==\u001b[39m \u001b[38;5;241m0\u001b[39m:\n\u001b[1;32m-> 2273\u001b[0m     \u001b[38;5;28;01mraise\u001b[39;00m \u001b[38;5;167;01mValueError\u001b[39;00m(\n\u001b[0;32m   2274\u001b[0m         \u001b[38;5;124m\"\u001b[39m\u001b[38;5;124mWith n_samples=\u001b[39m\u001b[38;5;132;01m{}\u001b[39;00m\u001b[38;5;124m, test_size=\u001b[39m\u001b[38;5;132;01m{}\u001b[39;00m\u001b[38;5;124m and train_size=\u001b[39m\u001b[38;5;132;01m{}\u001b[39;00m\u001b[38;5;124m, the \u001b[39m\u001b[38;5;124m\"\u001b[39m\n\u001b[0;32m   2275\u001b[0m         \u001b[38;5;124m\"\u001b[39m\u001b[38;5;124mresulting train set will be empty. Adjust any of the \u001b[39m\u001b[38;5;124m\"\u001b[39m\n\u001b[0;32m   2276\u001b[0m         \u001b[38;5;124m\"\u001b[39m\u001b[38;5;124maforementioned parameters.\u001b[39m\u001b[38;5;124m\"\u001b[39m\u001b[38;5;241m.\u001b[39mformat(n_samples, test_size, train_size)\n\u001b[0;32m   2277\u001b[0m     )\n\u001b[0;32m   2279\u001b[0m \u001b[38;5;28;01mreturn\u001b[39;00m n_train, n_test\n",
      "\u001b[1;31mValueError\u001b[0m: With n_samples=0, test_size=0.1 and train_size=None, the resulting train set will be empty. Adjust any of the aforementioned parameters."
     ]
    }
   ],
   "source": [
    "from sklearn.model_selection import train_test_split\n",
    "X_train, X_test, y_train, y_test = train_test_split(X, y, test_size=0.1, random_state=42)"
   ]
  },
  {
   "cell_type": "markdown",
   "metadata": {},
   "source": [
    "## Fitting the KNN model"
   ]
  },
  {
   "cell_type": "code",
   "execution_count": null,
   "metadata": {},
   "outputs": [],
   "source": [
    "from sklearn.neighbors import KNeighborsClassifier\n",
    "\n",
    "model = KNeighborsClassifier(n_neighbors=200, weights='uniform', algorithm='kd_tree', leaf_size=30, p=1, metric='minkowski', metric_params=None, n_jobs=1)\n",
    "model.fit(X_train, y_train)\n",
    "\n",
    "y_pred_train = model.predict(X_train)\n",
    "y_pred_test = model.predict(X_test)"
   ]
  },
  {
   "cell_type": "markdown",
   "metadata": {},
   "source": [
    "## Quick evaluation of our fitting"
   ]
  },
  {
   "cell_type": "code",
   "execution_count": 25,
   "metadata": {},
   "outputs": [
    {
     "ename": "NameError",
     "evalue": "name 'y_train' is not defined",
     "output_type": "error",
     "traceback": [
      "\u001b[1;31m---------------------------------------------------------------------------\u001b[0m",
      "\u001b[1;31mNameError\u001b[0m                                 Traceback (most recent call last)",
      "Cell \u001b[1;32mIn[25], line 2\u001b[0m\n\u001b[0;32m      1\u001b[0m \u001b[38;5;28;01mfrom\u001b[39;00m \u001b[38;5;21;01msklearn\u001b[39;00m\u001b[38;5;21;01m.\u001b[39;00m\u001b[38;5;21;01mmetrics\u001b[39;00m \u001b[38;5;28;01mimport\u001b[39;00m accuracy_score\n\u001b[1;32m----> 2\u001b[0m accuracy_train \u001b[38;5;241m=\u001b[39m accuracy_score(\u001b[43my_train\u001b[49m, y_pred_train)\n\u001b[0;32m      3\u001b[0m accuracy_test \u001b[38;5;241m=\u001b[39m accuracy_score(y_test, y_pred_test)\n\u001b[0;32m      4\u001b[0m \u001b[38;5;28mprint\u001b[39m(\u001b[38;5;124m\"\u001b[39m\u001b[38;5;124mAccuracy train: \u001b[39m\u001b[38;5;132;01m%.2f\u001b[39;00m\u001b[38;5;132;01m%%\u001b[39;00m\u001b[38;5;124m\"\u001b[39m \u001b[38;5;241m%\u001b[39m (accuracy_train \u001b[38;5;241m*\u001b[39m \u001b[38;5;241m100.0\u001b[39m))\n",
      "\u001b[1;31mNameError\u001b[0m: name 'y_train' is not defined"
     ]
    }
   ],
   "source": [
    "from sklearn.metrics import accuracy_score\n",
    "accuracy_train = accuracy_score(y_train, y_pred_train)\n",
    "accuracy_test = accuracy_score(y_test, y_pred_test)\n",
    "print(\"Accuracy train: %.2f%%\" % (accuracy_train * 100.0))\n",
    "print(\"Accuracy test: %.2f%%\" % (accuracy_test * 100.0))\n",
    "\n",
    "#------------------------------------------------------------------\n",
    "#--- How should I compare my accuracy ?\n",
    "print(df_model['mytarget'].value_counts()*100/df_model['mytarget'].count())\n",
    "\n",
    "# Random Model, gambler?\n",
    "pred_test = np.random.choice([0, 1, 2], len(y_pred_test))\n",
    "accuracy_test = accuracy_score(y_test, pred_test)\n",
    "print(\"Accuracy Gambler: %.2f%%\" % (accuracy_test * 100.0))"
   ]
  },
  {
   "cell_type": "markdown",
   "metadata": {},
   "source": [
    "## More powerful model XGBoost"
   ]
  },
  {
   "cell_type": "code",
   "execution_count": 26,
   "metadata": {},
   "outputs": [
    {
     "ename": "ModuleNotFoundError",
     "evalue": "No module named 'xgboost'",
     "output_type": "error",
     "traceback": [
      "\u001b[1;31m---------------------------------------------------------------------------\u001b[0m",
      "\u001b[1;31mModuleNotFoundError\u001b[0m                       Traceback (most recent call last)",
      "Cell \u001b[1;32mIn[26], line 1\u001b[0m\n\u001b[1;32m----> 1\u001b[0m \u001b[38;5;28;01mfrom\u001b[39;00m \u001b[38;5;21;01mxgboost\u001b[39;00m \u001b[38;5;28;01mimport\u001b[39;00m XGBClassifier\n\u001b[0;32m      2\u001b[0m model \u001b[38;5;241m=\u001b[39m XGBClassifier()\n\u001b[0;32m      3\u001b[0m model\u001b[38;5;241m.\u001b[39mfit(X_train, y_train)\n",
      "\u001b[1;31mModuleNotFoundError\u001b[0m: No module named 'xgboost'"
     ]
    }
   ],
   "source": [
    "from xgboost import XGBClassifier\n",
    "model = XGBClassifier()\n",
    "model.fit(X_train, y_train)\n",
    "pred_train = model.predict(X_train)\n",
    "pred_test = model.predict(X_test)\n",
    "acc_train = accuracy_score(y_train, pred_train)\n",
    "acc_test = accuracy_score(y_test, pred_test)\n",
    "print('****Train Results****')\n",
    "print(\"Accuracy: {:.4%}\".format(acc_train))\n",
    "print('****Test Results****')\n",
    "print(\"Accuracy: {:.4%}\".format(acc_test))"
   ]
  },
  {
   "cell_type": "markdown",
   "metadata": {},
   "source": [
    "## !!Data sampling shouldn't be random"
   ]
  },
  {
   "cell_type": "code",
   "execution_count": 14,
   "metadata": {},
   "outputs": [
    {
     "name": "stdout",
     "output_type": "stream",
     "text": [
      "****Train Results****\n",
      "Accuracy: 45.8013%\n",
      "****Test Results****\n",
      "Accuracy: 34.8805%\n"
     ]
    }
   ],
   "source": [
    "#random sampling\n",
    "#X_train, X_test, y_train, y_test = train_test_split(X, y, test_size=0.2, random_state=10)\n",
    "\n",
    "#sequential sampling\n",
    "train_index = int(0.8 * len(X))\n",
    "X_train, X_test = X[:train_index], X[train_index:]\n",
    "y_train, y_test = y[:train_index], y[train_index:]\n",
    "\n",
    "model = XGBClassifier()\n",
    "model.fit(X_train, y_train)\n",
    "pred_train = model.predict(X_train)\n",
    "pred_test = model.predict(X_test)\n",
    "acc_train = accuracy_score(y_train, pred_train)\n",
    "acc_test = accuracy_score(y_test, pred_test)\n",
    "print('****Train Results****')\n",
    "print(\"Accuracy: {:.4%}\".format(acc_train))\n",
    "print('****Test Results****')\n",
    "print(\"Accuracy: {:.4%}\".format(acc_test))"
   ]
  },
  {
   "cell_type": "markdown",
   "metadata": {},
   "source": [
    "## Which features are most important for our model?"
   ]
  },
  {
   "cell_type": "code",
   "execution_count": 15,
   "metadata": {},
   "outputs": [
    {
     "data": {
      "image/png": "[encoded data removed]",
      "text/plain": [
       "<Figure size 432x288 with 1 Axes>"
      ]
     },
     "metadata": {
      "needs_background": "light"
     },
     "output_type": "display_data"
    }
   ],
   "source": [
    "from matplotlib import pyplot\n",
    "from xgboost import plot_importance\n",
    "#plot feature importance\n",
    "plot_importance(model)\n",
    "pyplot.show()"
   ]
  },
  {
   "cell_type": "markdown",
   "metadata": {},
   "source": [
    "# Automated orders using python and Machine Learning\n",
    "## Previousavideos\n",
    "### 1 - Install Anaconda, Jupyter NB, Pandas_TA (Technical Analysis)\n",
    "### 2 - Download price data from online resources, and add our technical indicators to our exchange price dataframe\n",
    "### 3 - Fit a Machine learning model and predict future price trends using KNN and XGBOOST classifiers\n",
    "### 4 - Save and Load a ML model,\n",
    "### - according to the model's advice\n",
    "### - passing orders (sell/buy) automatically\n",
    "### - send an email notification about newly applied trading operations"
   ]
  },
  {
   "cell_type": "markdown",
   "metadata": {},
   "source": [
    "## Load Machine Learning Model from Disk and Test it"
   ]
  },
  {
   "cell_type": "code",
   "execution_count": 19,
   "metadata": {},
   "outputs": [],
   "source": [
    "import joblib\n",
    "\n",
    "# save your ML model to disk\n",
    "filename = 'mymodel1.sav'\n",
    "joblib.dump(model, filename)\n",
    "\n",
    "#load the model from disk\n",
    "loaded_model = joblib.load('mymodel1.sav')"
   ]
  },
  {
   "cell_type": "markdown",
   "metadata": {},
   "source": [
    "## Live Automated Orders with email notification"
   ]
  },
  {
   "cell_type": "code",
   "execution_count": 32,
   "metadata": {},
   "outputs": [],
   "source": [
    "from apscheduler.schedulers.blocking import BlockingScheduler\n",
    "import json\n",
    "from oandapyV20 import API\n",
    "import oandapyV20.endpoints.orders as orders\n",
    "from oandapyV20.contrib.requests import MarketOrderRequest\n",
    "from oanda_candles import Pair, Gran, CandleCollector\n",
    "from oandapyV20.contrib.requests import TakeProfitDetails, StopLossDetails\n",
    "\n",
    "\n",
    "import smtplib\n",
    "gmail_user = 'email@gmail.com'\n",
    "gmail_password = 'email password here'\n",
    "sent_from = gmail_user\n",
    "to = ['email@gmail.com']\n",
    "subject = 'info CHF'\n"
   ]
  },
  {
   "cell_type": "code",
   "execution_count": 30,
   "metadata": {},
   "outputs": [],
   "source": [
    "ModelPrediction = 0\n",
    "def some_job():\n",
    "    access_token=\"INSERT TOKEN HERE, YOU GET IT FROM YOUR OANDA ACCOUNT\"\n",
    "    collector = CandleCollector(access_token, Pair.USD_CHF, Gran.H4)\n",
    "    candles = collector.grab(2*161)\n",
    "\n",
    "    dfstream = pd.DataFrame(columns=['Open','Close','High','Low'])\n",
    "    i=0\n",
    "    for candle in candles:\n",
    "        dfstream.loc[i, ['Open']] = float(str(candle.bid.o))\n",
    "        dfstream.loc[i, ['Close']] = float(str(candle.bid.c))\n",
    "        dfstream.loc[i, ['High']] = float(str(candle.bid.h))\n",
    "        dfstream.loc[i, ['Low']] = float(str(candle.bid.l))\n",
    "        i=i+1\n",
    "\n",
    "    dfstream['Open'] = dfstream['Open'].astype(float)\n",
    "    dfstream['Close'] = dfstream['Close'].astype(float)\n",
    "    dfstream['High'] = dfstream['High'].astype(float)\n",
    "    dfstream['Low'] = dfstream['Low'].astype(float)\n",
    "\n",
    "    #dfstream['Average'] = (dfstream['High']+dfstream['Low'])/2\n",
    "    #dfstream['MA40'] = dfstream['Open'].rolling(window=40).mean()\n",
    "    #dfstream['MA80'] = dfstream['Open'].rolling(window=80).mean()\n",
    "    #dfstream['MA160'] = dfstream['Open'].rolling(window=160).mean()\n",
    "    \n",
    "    import numpy as np\n",
    "    import pandas_ta as ta\n",
    "    #attributes=['ATR', 'RSI', 'Average', \n",
    "    #'MA40', 'MA80', 'MA160', 'slopeMA40', \n",
    "    #'slopeMA80', 'slopeMA160', 'AverageSlope', 'RSISlope']\n",
    "    dfstream['ATR'] = dfstream.ta.atr(length=20)\n",
    "    dfstream['RSI'] = dfstream.ta.rsi()\n",
    "    dfstream['Average'] = dfstream.ta.midprice(length=1) #midprice\n",
    "    dfstream['MA40'] = dfstream.ta.sma(length=40)\n",
    "    dfstream['MA80'] = dfstream.ta.sma(length=80)\n",
    "    dfstream['MA160'] = dfstream.ta.sma(length=160)\n",
    "\n",
    "#from scipy.stats import linregress\n",
    "#def get_slope(array):\n",
    "#    y = np.array(array)\n",
    "#    x = np.arange(len(y))\n",
    "#    slope, intercept, r_value, p_value, std_err = linregress(x,y)\n",
    "#    return slope\n",
    "\n",
    "    #!!!!!!!!!!!!!!!!!!!!!!!!!!!!!\n",
    "    backrollingN = 6\n",
    "    #!!!!!!!!!!!!!!!!!!!!!!!!!!!!!\n",
    "    dfstream['slopeMA40'] = dfstream['MA40'].rolling(window=backrollingN).apply(get_slope, raw=True)\n",
    "    dfstream['slopeMA80'] = dfstream['MA80'].rolling(window=backrollingN).apply(get_slope, raw=True)\n",
    "    dfstream['slopeMA160'] = dfstream['MA160'].rolling(window=backrollingN).apply(get_slope, raw=True)\n",
    "    dfstream['AverageSlope'] = dfstream['Average'].rolling(window=backrollingN).apply(get_slope, raw=True)\n",
    "    dfstream['RSISlope'] = dfstream['RSI'].rolling(window=backrollingN).apply(get_slope, raw=True)\n",
    "\n",
    "    #________________________________________________________________________________________________\n",
    "    X_stream = dfstream.iloc[[320]]# !!! Index takes last CLOSED candle\n",
    "    #attributes=['ATR', 'RSI', 'Average', 'MA40', 'MA80', 'MA160', \n",
    "    #'slopeMA40', 'slopeMA80', 'slopeMA160', 'AverageSlope', 'RSISlope']\n",
    "    X_model = X_stream[attributes]\n",
    "    \n",
    "    # Apply the model for predictions\n",
    "    ModelPrediction = loaded_model.predict(X_model)\n",
    "  \n",
    "    msg = str(ModelPrediction) # 0 no clear trend, 1 downtrend, 2 uptrend\n",
    "    #------------------------------------\n",
    "    # send email with \n",
    "    server = smtplib.SMTP_SSL('smtp.gmail.com', 465)\n",
    "    server.ehlo()\n",
    "    server.login(gmail_user, gmail_password)\n",
    "    server.sendmail(sent_from, to, msg)\n",
    "    server.close()\n",
    "    #________________________________________________________________________________________________\n",
    "    \n",
    "    \n",
    "    # EXECUTING ORDERS\n",
    "    accountID = \"1432-432-0000\" #use your account ID\n",
    "    client = API(access_token)\n",
    "\n",
    "    candles = collector.grab(1)\n",
    "#    for candle in candles:\n",
    "#        print(candle.bid.o)\n",
    "#        print(candle.bid.c)\n",
    "    \n",
    "    pipdiff = 500*1e-5 #for TP\n",
    "    SLTPRatio = 2 #pipdiff/Ratio gives SL\n",
    "    \n",
    "    TPBuy = float(str(candle.bid.o))+pipdiff\n",
    "    SLBuy = float(str(candle.bid.o))-(pipdiff/SLTPRatio)\n",
    "    TPSell = float(str(candle.bid.o))-pipdiff\n",
    "    SLSell = float(str(candle.bid.o))+(pipdiff/SLTPRatio)\n",
    "    \n",
    "    #Sell\n",
    "    if ModelPrediction == 1:\n",
    "        mo = MarketOrderRequest(instrument=\"USD_CHF\", units=-1000, takeProfitOnFill=TakeProfitDetails(price=TPSell).data, stopLossOnFill=StopLossDetails(price=SLSell).data)\n",
    "        r = orders.OrderCreate(accountID, data=mo.data)\n",
    "        rv = client.request(r)\n",
    "        print(rv)\n",
    "    #Buy\n",
    "    elif ModelPrediction == 2:\n",
    "        mo = MarketOrderRequest(instrument=\"USD_CHF\", units=1000, takeProfitOnFill=TakeProfitDetails(price=TPBuy).data, stopLossOnFill=StopLossDetails(price=SLBuy).data)\n",
    "        r = orders.OrderCreate(accountID, data=mo.data)\n",
    "        rv = client.request(r)\n",
    "        print(rv)"
   ]
  },
  {
   "cell_type": "markdown",
   "metadata": {},
   "source": [
    "## Executing orders automatically every 4 Hours"
   ]
  },
  {
   "cell_type": "code",
   "execution_count": null,
   "metadata": {},
   "outputs": [],
   "source": []
  },
  {
   "cell_type": "code",
   "execution_count": 33,
   "metadata": {},
   "outputs": [
    {
     "ename": "V20Error",
     "evalue": "{\"errorMessage\":\"Insufficient authorization to perform request.\"}",
     "output_type": "error",
     "traceback": [
      "\u001b[1;31m---------------------------------------------------------------------------\u001b[0m",
      "\u001b[1;31mV20Error\u001b[0m                                  Traceback (most recent call last)",
      "\u001b[1;32m<ipython-input-33-ac0b1cae4e96>\u001b[0m in \u001b[0;36m<module>\u001b[1;34m\u001b[0m\n\u001b[1;32m----> 1\u001b[1;33m \u001b[0msome_job\u001b[0m\u001b[1;33m(\u001b[0m\u001b[1;33m)\u001b[0m\u001b[1;33m\u001b[0m\u001b[1;33m\u001b[0m\u001b[0m\n\u001b[0m\u001b[0;32m      2\u001b[0m \u001b[1;33m\u001b[0m\u001b[0m\n\u001b[0;32m      3\u001b[0m \u001b[1;31m###################################################################\u001b[0m\u001b[1;33m\u001b[0m\u001b[1;33m\u001b[0m\u001b[1;33m\u001b[0m\u001b[0m\n\u001b[0;32m      4\u001b[0m \u001b[1;31m## Interval time job ##############################################\u001b[0m\u001b[1;33m\u001b[0m\u001b[1;33m\u001b[0m\u001b[1;33m\u001b[0m\u001b[0m\n\u001b[0;32m      5\u001b[0m \u001b[0mscheduler\u001b[0m \u001b[1;33m=\u001b[0m \u001b[0mBlockingScheduler\u001b[0m\u001b[1;33m(\u001b[0m\u001b[0mjob_defaults\u001b[0m\u001b[1;33m=\u001b[0m\u001b[1;33m{\u001b[0m\u001b[1;34m'misfire_grace_time'\u001b[0m\u001b[1;33m:\u001b[0m \u001b[1;36m15\u001b[0m\u001b[1;33m*\u001b[0m\u001b[1;36m60\u001b[0m\u001b[1;33m}\u001b[0m\u001b[1;33m)\u001b[0m\u001b[1;33m\u001b[0m\u001b[1;33m\u001b[0m\u001b[0m\n",
      "\u001b[1;32m<ipython-input-30-3e517afe6cb6>\u001b[0m in \u001b[0;36msome_job\u001b[1;34m()\u001b[0m\n\u001b[0;32m      2\u001b[0m \u001b[1;32mdef\u001b[0m \u001b[0msome_job\u001b[0m\u001b[1;33m(\u001b[0m\u001b[1;33m)\u001b[0m\u001b[1;33m:\u001b[0m\u001b[1;33m\u001b[0m\u001b[1;33m\u001b[0m\u001b[0m\n\u001b[0;32m      3\u001b[0m     \u001b[0maccess_token\u001b[0m\u001b[1;33m=\u001b[0m\u001b[1;34m\"INSERT TOKEN HERE, YOU GET IT FROM YOUR OANDA ACCOUNT\"\u001b[0m\u001b[1;33m\u001b[0m\u001b[1;33m\u001b[0m\u001b[0m\n\u001b[1;32m----> 4\u001b[1;33m     \u001b[0mcollector\u001b[0m \u001b[1;33m=\u001b[0m \u001b[0mCandleCollector\u001b[0m\u001b[1;33m(\u001b[0m\u001b[0maccess_token\u001b[0m\u001b[1;33m,\u001b[0m \u001b[0mPair\u001b[0m\u001b[1;33m.\u001b[0m\u001b[0mUSD_CHF\u001b[0m\u001b[1;33m,\u001b[0m \u001b[0mGran\u001b[0m\u001b[1;33m.\u001b[0m\u001b[0mH4\u001b[0m\u001b[1;33m)\u001b[0m\u001b[1;33m\u001b[0m\u001b[1;33m\u001b[0m\u001b[0m\n\u001b[0m\u001b[0;32m      5\u001b[0m     \u001b[0mcandles\u001b[0m \u001b[1;33m=\u001b[0m \u001b[0mcollector\u001b[0m\u001b[1;33m.\u001b[0m\u001b[0mgrab\u001b[0m\u001b[1;33m(\u001b[0m\u001b[1;36m2\u001b[0m\u001b[1;33m*\u001b[0m\u001b[1;36m161\u001b[0m\u001b[1;33m)\u001b[0m\u001b[1;33m\u001b[0m\u001b[1;33m\u001b[0m\u001b[0m\n\u001b[0;32m      6\u001b[0m \u001b[1;33m\u001b[0m\u001b[0m\n",
      "\u001b[1;32mD:\\ProgramFiles\\Anaconda3\\lib\\site-packages\\oanda_candles\\candle_collector.py\u001b[0m in \u001b[0;36m__init__\u001b[1;34m(self, token, pair, gran)\u001b[0m\n\u001b[0;32m     25\u001b[0m         \u001b[1;31m# Set _low and _high prices to that of first candle then load candles\u001b[0m\u001b[1;33m\u001b[0m\u001b[1;33m\u001b[0m\u001b[1;33m\u001b[0m\u001b[0m\n\u001b[0;32m     26\u001b[0m         \u001b[1;31m# by using extend method (which will adjust low and high from there).\u001b[0m\u001b[1;33m\u001b[0m\u001b[1;33m\u001b[0m\u001b[1;33m\u001b[0m\u001b[0m\n\u001b[1;32m---> 27\u001b[1;33m         \u001b[0msequence\u001b[0m \u001b[1;33m=\u001b[0m \u001b[0mself\u001b[0m\u001b[1;33m.\u001b[0m\u001b[0mrequester\u001b[0m\u001b[1;33m.\u001b[0m\u001b[0mrequest\u001b[0m\u001b[1;33m(\u001b[0m\u001b[0mcount\u001b[0m\u001b[1;33m=\u001b[0m\u001b[1;36m500\u001b[0m\u001b[1;33m)\u001b[0m\u001b[1;33m\u001b[0m\u001b[1;33m\u001b[0m\u001b[0m\n\u001b[0m\u001b[0;32m     28\u001b[0m         \u001b[0mself\u001b[0m\u001b[1;33m.\u001b[0m\u001b[0m_low\u001b[0m\u001b[1;33m:\u001b[0m \u001b[0mPrice\u001b[0m \u001b[1;33m=\u001b[0m \u001b[0msequence\u001b[0m\u001b[1;33m.\u001b[0m\u001b[0mfirst\u001b[0m\u001b[1;33m.\u001b[0m\u001b[0mbid\u001b[0m\u001b[1;33m.\u001b[0m\u001b[0ml\u001b[0m\u001b[1;33m\u001b[0m\u001b[1;33m\u001b[0m\u001b[0m\n\u001b[0;32m     29\u001b[0m         \u001b[0mself\u001b[0m\u001b[1;33m.\u001b[0m\u001b[0m_high\u001b[0m\u001b[1;33m:\u001b[0m \u001b[0mPrice\u001b[0m \u001b[1;33m=\u001b[0m \u001b[0msequence\u001b[0m\u001b[1;33m.\u001b[0m\u001b[0mfirst\u001b[0m\u001b[1;33m.\u001b[0m\u001b[0mask\u001b[0m\u001b[1;33m.\u001b[0m\u001b[0mh\u001b[0m\u001b[1;33m\u001b[0m\u001b[1;33m\u001b[0m\u001b[0m\n",
      "\u001b[1;32mD:\\ProgramFiles\\Anaconda3\\lib\\site-packages\\oanda_candles\\candle_requester.py\u001b[0m in \u001b[0;36mrequest\u001b[1;34m(self, start, end, count, include_first)\u001b[0m\n\u001b[0;32m     87\u001b[0m             \u001b[1;32mraise\u001b[0m \u001b[0mValueError\u001b[0m\u001b[1;33m(\u001b[0m\u001b[1;34mf\"Specified start, end, as well as count.\"\u001b[0m\u001b[1;33m)\u001b[0m\u001b[1;33m\u001b[0m\u001b[1;33m\u001b[0m\u001b[0m\n\u001b[0;32m     88\u001b[0m         \u001b[0mrequest\u001b[0m \u001b[1;33m=\u001b[0m \u001b[0mInstrumentsCandles\u001b[0m\u001b[1;33m(\u001b[0m\u001b[0minstrument\u001b[0m\u001b[1;33m=\u001b[0m\u001b[0mself\u001b[0m\u001b[1;33m.\u001b[0m\u001b[0minstrument\u001b[0m\u001b[1;33m,\u001b[0m \u001b[0mparams\u001b[0m\u001b[1;33m=\u001b[0m\u001b[0mparams\u001b[0m\u001b[1;33m)\u001b[0m\u001b[1;33m\u001b[0m\u001b[1;33m\u001b[0m\u001b[0m\n\u001b[1;32m---> 89\u001b[1;33m         \u001b[0mresponse\u001b[0m \u001b[1;33m=\u001b[0m \u001b[0mself\u001b[0m\u001b[1;33m.\u001b[0m\u001b[0mapi\u001b[0m\u001b[1;33m.\u001b[0m\u001b[0mrequest\u001b[0m\u001b[1;33m(\u001b[0m\u001b[0mrequest\u001b[0m\u001b[1;33m)\u001b[0m\u001b[1;33m\u001b[0m\u001b[1;33m\u001b[0m\u001b[0m\n\u001b[0m\u001b[0;32m     90\u001b[0m         \u001b[1;32mreturn\u001b[0m \u001b[0mCandleSequence\u001b[0m\u001b[1;33m.\u001b[0m\u001b[0mfrom_oanda\u001b[0m\u001b[1;33m(\u001b[0m\u001b[0mresponse\u001b[0m\u001b[1;33m)\u001b[0m\u001b[1;33m\u001b[0m\u001b[1;33m\u001b[0m\u001b[0m\n",
      "\u001b[1;32mD:\\ProgramFiles\\Anaconda3\\lib\\site-packages\\oandapyV20\\oandapyV20.py\u001b[0m in \u001b[0;36mrequest\u001b[1;34m(self, endpoint)\u001b[0m\n\u001b[0;32m    304\u001b[0m \u001b[1;33m\u001b[0m\u001b[0m\n\u001b[0;32m    305\u001b[0m             response = self.__request(method, url,\n\u001b[1;32m--> 306\u001b[1;33m                                       request_args, headers=headers)\n\u001b[0m\u001b[0;32m    307\u001b[0m             \u001b[0mcontent\u001b[0m \u001b[1;33m=\u001b[0m \u001b[0mresponse\u001b[0m\u001b[1;33m.\u001b[0m\u001b[0mcontent\u001b[0m\u001b[1;33m.\u001b[0m\u001b[0mdecode\u001b[0m\u001b[1;33m(\u001b[0m\u001b[1;34m'utf-8'\u001b[0m\u001b[1;33m)\u001b[0m\u001b[1;33m\u001b[0m\u001b[1;33m\u001b[0m\u001b[0m\n\u001b[0;32m    308\u001b[0m             \u001b[0mcontent\u001b[0m \u001b[1;33m=\u001b[0m \u001b[0mjson\u001b[0m\u001b[1;33m.\u001b[0m\u001b[0mloads\u001b[0m\u001b[1;33m(\u001b[0m\u001b[0mcontent\u001b[0m\u001b[1;33m)\u001b[0m\u001b[1;33m\u001b[0m\u001b[1;33m\u001b[0m\u001b[0m\n",
      "\u001b[1;32mD:\\ProgramFiles\\Anaconda3\\lib\\site-packages\\oandapyV20\\oandapyV20.py\u001b[0m in \u001b[0;36m__request\u001b[1;34m(self, method, url, request_args, headers, stream)\u001b[0m\n\u001b[0;32m    241\u001b[0m                          response.content.decode('utf-8'))\n\u001b[0;32m    242\u001b[0m             raise V20Error(response.status_code,\n\u001b[1;32m--> 243\u001b[1;33m                            response.content.decode('utf-8'))\n\u001b[0m\u001b[0;32m    244\u001b[0m         \u001b[1;32mreturn\u001b[0m \u001b[0mresponse\u001b[0m\u001b[1;33m\u001b[0m\u001b[1;33m\u001b[0m\u001b[0m\n\u001b[0;32m    245\u001b[0m \u001b[1;33m\u001b[0m\u001b[0m\n",
      "\u001b[1;31mV20Error\u001b[0m: {\"errorMessage\":\"Insufficient authorization to perform request.\"}"
     ]
    }
   ],
   "source": [
    "#some_job()\n",
    "\n",
    "###################################################################\n",
    "## Interval time job ##############################################\n",
    "scheduler = BlockingScheduler(job_defaults={'misfire_grace_time': 15*60})\n",
    "scheduler.add_job(some_job, 'cron', day_of_week='mon-fri', hour='*/4', minute=5, jitter=120, timezone='America/New_York')\n",
    "#scheduler.add_job(some_job, 'interval', hours=4)\n",
    "scheduler.start()"
   ]
  },
  {
   "cell_type": "code",
   "execution_count": null,
   "metadata": {},
   "outputs": [],
   "source": []
  }
 ],
 "metadata": {
  "kernelspec": {
   "display_name": "Python 3 (ipykernel)",
   "language": "python",
   "name": "python3"
  },
  "language_info": {
   "codemirror_mode": {
    "name": "ipython",
    "version": 3
   },
   "file_extension": ".py",
   "mimetype": "text/x-python",
   "name": "python",
   "nbconvert_exporter": "python",
   "pygments_lexer": "ipython3",
   "version": "3.11.4"
  }
 },
 "nbformat": 4,
 "nbformat_minor": 2
}

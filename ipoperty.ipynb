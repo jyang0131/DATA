{
 "cells": [
  {
   "cell_type": "code",
   "execution_count": 24,
   "id": "125fc980",
   "metadata": {},
   "outputs": [
    {
     "name": "stdout",
     "output_type": "stream",
     "text": [
      "Requirement already satisfied: autoscraper in c:\\users\\jyych\\anaconda3\\lib\\site-packages (1.1.14)\n",
      "Requirement already satisfied: requests in c:\\users\\jyych\\anaconda3\\lib\\site-packages (from autoscraper) (2.31.0)\n",
      "Requirement already satisfied: bs4 in c:\\users\\jyych\\anaconda3\\lib\\site-packages (from autoscraper) (0.0.1)\n",
      "Requirement already satisfied: lxml in c:\\users\\jyych\\anaconda3\\lib\\site-packages (from autoscraper) (4.9.3)\n",
      "Requirement already satisfied: beautifulsoup4 in c:\\users\\jyych\\anaconda3\\lib\\site-packages (from bs4->autoscraper) (4.12.2)\n",
      "Requirement already satisfied: charset-normalizer<4,>=2 in c:\\users\\jyych\\anaconda3\\lib\\site-packages (from requests->autoscraper) (2.0.4)\n",
      "Requirement already satisfied: idna<4,>=2.5 in c:\\users\\jyych\\anaconda3\\lib\\site-packages (from requests->autoscraper) (3.4)\n",
      "Requirement already satisfied: urllib3<3,>=1.21.1 in c:\\users\\jyych\\anaconda3\\lib\\site-packages (from requests->autoscraper) (1.26.16)\n",
      "Requirement already satisfied: certifi>=2017.4.17 in c:\\users\\jyych\\anaconda3\\lib\\site-packages (from requests->autoscraper) (2023.7.22)\n",
      "Requirement already satisfied: soupsieve>1.2 in c:\\users\\jyych\\anaconda3\\lib\\site-packages (from beautifulsoup4->bs4->autoscraper) (2.4)\n",
      "Requirement already satisfied: requests in c:\\users\\jyych\\anaconda3\\lib\\site-packages (2.31.0)\n",
      "Requirement already satisfied: beautifulsoup4 in c:\\users\\jyych\\anaconda3\\lib\\site-packages (4.12.2)\n",
      "Requirement already satisfied: charset-normalizer<4,>=2 in c:\\users\\jyych\\anaconda3\\lib\\site-packages (from requests) (2.0.4)\n",
      "Requirement already satisfied: idna<4,>=2.5 in c:\\users\\jyych\\anaconda3\\lib\\site-packages (from requests) (3.4)\n",
      "Requirement already satisfied: urllib3<3,>=1.21.1 in c:\\users\\jyych\\anaconda3\\lib\\site-packages (from requests) (1.26.16)\n",
      "Requirement already satisfied: certifi>=2017.4.17 in c:\\users\\jyych\\anaconda3\\lib\\site-packages (from requests) (2023.7.22)\n",
      "Requirement already satisfied: soupsieve>1.2 in c:\\users\\jyych\\anaconda3\\lib\\site-packages (from beautifulsoup4) (2.4)\n"
     ]
    }
   ],
   "source": [
    "!pip install autoscraper\n",
    "!pip install requests beautifulsoup4\n",
    "import requests\n",
    "from bs4 import BeautifulSoup"
   ]
  },
  {
   "cell_type": "code",
   "execution_count": 25,
   "id": "684a4cad",
   "metadata": {},
   "outputs": [],
   "source": [
    "from autoscraper import AutoScraper"
   ]
  },
  {
   "cell_type": "code",
   "execution_count": 36,
   "id": "0c50d436",
   "metadata": {},
   "outputs": [
    {
     "data": {
      "text/plain": [
       "{}"
      ]
     },
     "execution_count": 36,
     "metadata": {},
     "output_type": "execute_result"
    }
   ],
   "source": [
    "url ='https://www.iproperty.com.my/rent/kuala-lumpur-58jok/all-residential/'\n",
    "wanted_dict = {'PremiumCardstyle__AddressWrapper-dFhRxY FOGqH':[' Mont Kiara, Kuala Lumpur'],\n",
    "                'ListingPricestyle__ItemWrapper-etxdML ejAiy':['RM 2,600'],\n",
    "                ' ListingAttributesstyle__ListingAttrsDescriptionItemWrapper-cCDpp jFWNEN attributes-description-item':[' Condominium  •  Built-up : 662 sq. ft.  •  Fully furnished']\n",
    "              } \n",
    "\n",
    "scraper = None\n",
    "scraper = AutoScraper ( )\n",
    "scraper.build(url=url,wanted_dict =wanted_dict) \n",
    "\n",
    "result = scraper.get_result_similar (url=url, grouped=True)\n",
    "result"
   ]
  },
  {
   "cell_type": "code",
   "execution_count": 34,
   "id": "026dfbcc",
   "metadata": {},
   "outputs": [
    {
     "data": {
      "text/plain": [
       "dict_keys([])"
      ]
     },
     "execution_count": 34,
     "metadata": {},
     "output_type": "execute_result"
    }
   ],
   "source": [
    "#search the result key\n",
    "result.keys()"
   ]
  },
  {
   "cell_type": "code",
   "execution_count": 28,
   "id": "93b0b7fd",
   "metadata": {},
   "outputs": [],
   "source": [
    "#save the key data that u wanna do analyz \n",
    "#select attributes '\n",
    "\n",
    "scraper.keep_rules(['rule_gasd', 'rule_6ypv', 'rule_33ek'])\n",
    "scraper.save('kelvin_research_22')"
   ]
  },
  {
   "cell_type": "code",
   "execution_count": 29,
   "id": "2003f830",
   "metadata": {},
   "outputs": [],
   "source": [
    "#reload back rule\n",
    "lianjia_scraper = None\n",
    "lianjia_scraper = AutoScraper ()\n",
    "lianjia_scraper.load('kelvin_research_22') "
   ]
  },
  {
   "cell_type": "code",
   "execution_count": 30,
   "id": "43316886",
   "metadata": {
    "scrolled": false
   },
   "outputs": [
    {
     "name": "stdout",
     "output_type": "stream",
     "text": [
      "https://www.iproperty.com.my/rent/kuala-lumpur/all-residential/?l11\n",
      "https://www.iproperty.com.my/rent/kuala-lumpur/all-residential/?l12\n",
      "https://www.iproperty.com.my/rent/kuala-lumpur/all-residential/?l13\n",
      "https://www.iproperty.com.my/rent/kuala-lumpur/all-residential/?l14\n",
      "https://www.iproperty.com.my/rent/kuala-lumpur/all-residential/?l15\n",
      "https://www.iproperty.com.my/rent/kuala-lumpur/all-residential/?l16\n",
      "https://www.iproperty.com.my/rent/kuala-lumpur/all-residential/?l17\n",
      "https://www.iproperty.com.my/rent/kuala-lumpur/all-residential/?l18\n",
      "https://www.iproperty.com.my/rent/kuala-lumpur/all-residential/?l19\n"
     ]
    }
   ],
   "source": [
    "import pandas as pd\n",
    "df = pd.DataFrame()\n",
    " \n",
    "#  \n",
    "# 批量抓取二手房信息\n",
    "\n",
    "for n in range (1,10):\n",
    "    url = f'https://www.iproperty.com.my/rent/kuala-lumpur/all-residential/?l1{n}'\n",
    "\n",
    "    print (url)\n",
    "    result = lianjia_scraper.get_result_similar(url=url, group_by_alias = True)\n",
    "\n",
    "    df = pd.concat ([df, pd.DataFrame(result)])\n",
    "    "
   ]
  },
  {
   "cell_type": "code",
   "execution_count": 31,
   "id": "f0279baf",
   "metadata": {},
   "outputs": [
    {
     "data": {
      "text/html": [
       "<div>\n",
       "<style scoped>\n",
       "    .dataframe tbody tr th:only-of-type {\n",
       "        vertical-align: middle;\n",
       "    }\n",
       "\n",
       "    .dataframe tbody tr th {\n",
       "        vertical-align: top;\n",
       "    }\n",
       "\n",
       "    .dataframe thead th {\n",
       "        text-align: right;\n",
       "    }\n",
       "</style>\n",
       "<table border=\"1\" class=\"dataframe\">\n",
       "  <thead>\n",
       "    <tr style=\"text-align: right;\">\n",
       "      <th></th>\n",
       "    </tr>\n",
       "  </thead>\n",
       "  <tbody>\n",
       "  </tbody>\n",
       "</table>\n",
       "</div>"
      ],
      "text/plain": [
       "Empty DataFrame\n",
       "Columns: []\n",
       "Index: []"
      ]
     },
     "execution_count": 31,
     "metadata": {},
     "output_type": "execute_result"
    }
   ],
   "source": [
    "df.reset_index(drop= True)"
   ]
  },
  {
   "cell_type": "code",
   "execution_count": 32,
   "id": "2e88ecb5",
   "metadata": {},
   "outputs": [
    {
     "ename": "TypeError",
     "evalue": "NDFrame.to_excel() got an unexpected keyword argument 'encoding'",
     "output_type": "error",
     "traceback": [
      "\u001b[1;31m---------------------------------------------------------------------------\u001b[0m",
      "\u001b[1;31mTypeError\u001b[0m                                 Traceback (most recent call last)",
      "Cell \u001b[1;32mIn[32], line 2\u001b[0m\n\u001b[0;32m      1\u001b[0m \u001b[38;5;66;03m#save data into excel\u001b[39;00m\n\u001b[1;32m----> 2\u001b[0m df\u001b[38;5;241m.\u001b[39mreset_index(drop\u001b[38;5;241m=\u001b[39m\u001b[38;5;28;01mTrue\u001b[39;00m)\u001b[38;5;241m.\u001b[39mto_excel(\u001b[38;5;124m'\u001b[39m\u001b[38;5;124mkelvin_research_22.xlsx\u001b[39m\u001b[38;5;124m'\u001b[39m,\n\u001b[0;32m      3\u001b[0m                                  encoding\u001b[38;5;241m=\u001b[39m\u001b[38;5;124m'\u001b[39m\u001b[38;5;124mgbk\u001b[39m\u001b[38;5;124m'\u001b[39m,\n\u001b[0;32m      4\u001b[0m                                  index\u001b[38;5;241m=\u001b[39m\u001b[38;5;28;01mFalse\u001b[39;00m)\n",
      "\u001b[1;31mTypeError\u001b[0m: NDFrame.to_excel() got an unexpected keyword argument 'encoding'"
     ]
    }
   ],
   "source": [
    "#save data into excel\n",
    "df.reset_index(drop=True).to_excel('kelvin_research_22.xlsx',\n",
    "                                 encoding='gbk',\n",
    "                                 index=False)"
   ]
  },
  {
   "cell_type": "code",
   "execution_count": null,
   "id": "05d2d8f3",
   "metadata": {},
   "outputs": [],
   "source": []
  }
 ],
 "metadata": {
  "kernelspec": {
   "display_name": "Python 3 (ipykernel)",
   "language": "python",
   "name": "python3"
  },
  "language_info": {
   "codemirror_mode": {
    "name": "ipython",
    "version": 3
   },
   "file_extension": ".py",
   "mimetype": "text/x-python",
   "name": "python",
   "nbconvert_exporter": "python",
   "pygments_lexer": "ipython3",
   "version": "3.11.5"
  }
 },
 "nbformat": 4,
 "nbformat_minor": 5
}
